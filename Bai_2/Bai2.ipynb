{
 "cells": [
  {
   "cell_type": "code",
   "execution_count": 2,
   "metadata": {},
   "outputs": [],
   "source": [
    "import pandas as pd\n",
    "import numpy as np\n",
    "import matplotlib.pyplot as plt\n",
    "import seaborn as sns\n",
    "import statistics"
   ]
  },
  {
   "attachments": {},
   "cell_type": "markdown",
   "metadata": {},
   "source": [
    "   # $2.4.1$ Mô tả về bộ dữ liệu \n",
    "      Bộ dữ liệu là bảng đánh giá chất lượng cơ sở vật chất của các sinh viên của trường Đại học Công nghiệp Thành phố Hồ Chí Minh (IUH) về các tiện ích và cơ sở vật chất của trường. Bảng dữ liệu bao gồm 10 câu hỏi với các tiêu chí đánh giá khác nhau, được đánh giá trên thang điểm từ 1 đến 5. Mỗi hàng trong bảng dữ liệu đại diện cho một sinh viên của trường IUH và điểm số của họ cho mỗi tiêu chí được cung cấp. Chúng em thực hiện khảo sát nhằm trả lời cho hai câu hỏi chính mà tụi em đã đặt vấn đề:\n",
    "      1. Điều gì là quan trọng nhất đối với sinh viên khi đánh giá cơ sở vật chất của trường đại học?\n",
    "      2. Cơ sở vật chất (CSVC) của trường có thật sự đáp ứng đủ nhu cầu cho sinh viên theo học tại trường ?"
   ]
  },
  {
   "cell_type": "code",
   "execution_count": 3,
   "metadata": {},
   "outputs": [
    {
     "data": {
      "text/html": [
       "<div>\n",
       "<style scoped>\n",
       "    .dataframe tbody tr th:only-of-type {\n",
       "        vertical-align: middle;\n",
       "    }\n",
       "\n",
       "    .dataframe tbody tr th {\n",
       "        vertical-align: top;\n",
       "    }\n",
       "\n",
       "    .dataframe thead th {\n",
       "        text-align: right;\n",
       "    }\n",
       "</style>\n",
       "<table border=\"1\" class=\"dataframe\">\n",
       "  <thead>\n",
       "    <tr style=\"text-align: right;\">\n",
       "      <th></th>\n",
       "      <th>Họ và tên</th>\n",
       "      <th>Mã sinh viên</th>\n",
       "      <th>Câu 1</th>\n",
       "      <th>Câu 2</th>\n",
       "      <th>Câu 3</th>\n",
       "      <th>Câu 4</th>\n",
       "      <th>Câu 5</th>\n",
       "      <th>Câu 6</th>\n",
       "      <th>Câu 7</th>\n",
       "      <th>Câu 8</th>\n",
       "      <th>Câu 9</th>\n",
       "      <th>Câu 10</th>\n",
       "    </tr>\n",
       "  </thead>\n",
       "  <tbody>\n",
       "    <tr>\n",
       "      <th>0</th>\n",
       "      <td>Trần Thị Ly Na</td>\n",
       "      <td>21066771</td>\n",
       "      <td>5</td>\n",
       "      <td>4</td>\n",
       "      <td>2</td>\n",
       "      <td>4</td>\n",
       "      <td>2</td>\n",
       "      <td>3</td>\n",
       "      <td>3</td>\n",
       "      <td>4</td>\n",
       "      <td>3</td>\n",
       "      <td>4</td>\n",
       "    </tr>\n",
       "    <tr>\n",
       "      <th>1</th>\n",
       "      <td>Trần Diệu Huyền</td>\n",
       "      <td>22682421</td>\n",
       "      <td>4</td>\n",
       "      <td>4</td>\n",
       "      <td>3</td>\n",
       "      <td>3</td>\n",
       "      <td>4</td>\n",
       "      <td>3</td>\n",
       "      <td>3</td>\n",
       "      <td>4</td>\n",
       "      <td>4</td>\n",
       "      <td>3</td>\n",
       "    </tr>\n",
       "    <tr>\n",
       "      <th>2</th>\n",
       "      <td>Nguyễn Thị Lan Anh</td>\n",
       "      <td>21109571</td>\n",
       "      <td>5</td>\n",
       "      <td>5</td>\n",
       "      <td>4</td>\n",
       "      <td>4</td>\n",
       "      <td>3</td>\n",
       "      <td>3</td>\n",
       "      <td>3</td>\n",
       "      <td>4</td>\n",
       "      <td>4</td>\n",
       "      <td>4</td>\n",
       "    </tr>\n",
       "    <tr>\n",
       "      <th>3</th>\n",
       "      <td>Nguyễn Văn Phong</td>\n",
       "      <td>21002815</td>\n",
       "      <td>3</td>\n",
       "      <td>3</td>\n",
       "      <td>2</td>\n",
       "      <td>3</td>\n",
       "      <td>2</td>\n",
       "      <td>1</td>\n",
       "      <td>3</td>\n",
       "      <td>3</td>\n",
       "      <td>3</td>\n",
       "      <td>3</td>\n",
       "    </tr>\n",
       "    <tr>\n",
       "      <th>4</th>\n",
       "      <td>Đinh Nguyên Chung</td>\n",
       "      <td>21127891</td>\n",
       "      <td>4</td>\n",
       "      <td>4</td>\n",
       "      <td>2</td>\n",
       "      <td>4</td>\n",
       "      <td>3</td>\n",
       "      <td>3</td>\n",
       "      <td>3</td>\n",
       "      <td>3</td>\n",
       "      <td>4</td>\n",
       "      <td>4</td>\n",
       "    </tr>\n",
       "  </tbody>\n",
       "</table>\n",
       "</div>"
      ],
      "text/plain": [
       "            Họ và tên  Mã sinh viên  Câu 1  Câu 2  Câu 3  Câu 4  Câu 5  Câu 6  \\\n",
       "0      Trần Thị Ly Na      21066771      5      4      2      4      2      3   \n",
       "1     Trần Diệu Huyền      22682421      4      4      3      3      4      3   \n",
       "2  Nguyễn Thị Lan Anh      21109571      5      5      4      4      3      3   \n",
       "3    Nguyễn Văn Phong      21002815      3      3      2      3      2      1   \n",
       "4   Đinh Nguyên Chung      21127891      4      4      2      4      3      3   \n",
       "\n",
       "   Câu 7  Câu 8  Câu 9  Câu 10  \n",
       "0      3      4      3       4  \n",
       "1      3      4      4       3  \n",
       "2      3      4      4       4  \n",
       "3      3      3      3       3  \n",
       "4      3      3      4       4  "
      ]
     },
     "execution_count": 3,
     "metadata": {},
     "output_type": "execute_result"
    }
   ],
   "source": [
    "df = pd.read_csv(\"Bai2.csv\")\n",
    "# Lọc ra các cột có tên bắt đầu bằng \"Unnamed\"\n",
    "cols_to_drop = df.filter(regex='^Unnamed').columns\n",
    "# Xóa các cột đó khỏi DataFrame\n",
    "df = df.drop(cols_to_drop, axis=1)\n",
    "df.head()"
   ]
  },
  {
   "attachments": {},
   "cell_type": "markdown",
   "metadata": {},
   "source": [
    "# $2.4.2$ THỰC HIỆN CÁC THỐNG KÊ CƠ BẢN"
   ]
  },
  {
   "attachments": {},
   "cell_type": "markdown",
   "metadata": {},
   "source": [
    "    * Thông tin về bộ dữ liệu"
   ]
  },
  {
   "cell_type": "code",
   "execution_count": 4,
   "metadata": {},
   "outputs": [
    {
     "name": "stdout",
     "output_type": "stream",
     "text": [
      "<class 'pandas.core.frame.DataFrame'>\n",
      "RangeIndex: 51 entries, 0 to 50\n",
      "Data columns (total 12 columns):\n",
      " #   Column        Non-Null Count  Dtype \n",
      "---  ------        --------------  ----- \n",
      " 0   Họ và tên     51 non-null     object\n",
      " 1   Mã sinh viên  51 non-null     int64 \n",
      " 2   Câu 1         51 non-null     int64 \n",
      " 3   Câu 2         51 non-null     int64 \n",
      " 4   Câu 3         51 non-null     int64 \n",
      " 5   Câu 4         51 non-null     int64 \n",
      " 6   Câu 5         51 non-null     int64 \n",
      " 7   Câu 6         51 non-null     int64 \n",
      " 8   Câu 7         51 non-null     int64 \n",
      " 9   Câu 8         51 non-null     int64 \n",
      " 10  Câu 9         51 non-null     int64 \n",
      " 11  Câu 10        51 non-null     int64 \n",
      "dtypes: int64(11), object(1)\n",
      "memory usage: 4.9+ KB\n"
     ]
    }
   ],
   "source": [
    "df.info();"
   ]
  },
  {
   "attachments": {},
   "cell_type": "markdown",
   "metadata": {},
   "source": [
    "* Các thống kê căn bản : trung bình, độ lệch chuẩn, min , max"
   ]
  },
  {
   "cell_type": "code",
   "execution_count": 36,
   "metadata": {},
   "outputs": [
    {
     "data": {
      "text/html": [
       "<div>\n",
       "<style scoped>\n",
       "    .dataframe tbody tr th:only-of-type {\n",
       "        vertical-align: middle;\n",
       "    }\n",
       "\n",
       "    .dataframe tbody tr th {\n",
       "        vertical-align: top;\n",
       "    }\n",
       "\n",
       "    .dataframe thead th {\n",
       "        text-align: right;\n",
       "    }\n",
       "</style>\n",
       "<table border=\"1\" class=\"dataframe\">\n",
       "  <thead>\n",
       "    <tr style=\"text-align: right;\">\n",
       "      <th></th>\n",
       "      <th>Câu 1</th>\n",
       "      <th>Câu 2</th>\n",
       "      <th>Câu 3</th>\n",
       "      <th>Câu 4</th>\n",
       "      <th>Câu 5</th>\n",
       "      <th>Câu 6</th>\n",
       "      <th>Câu 7</th>\n",
       "      <th>Câu 8</th>\n",
       "      <th>Câu 9</th>\n",
       "      <th>Câu 10</th>\n",
       "    </tr>\n",
       "  </thead>\n",
       "  <tbody>\n",
       "    <tr>\n",
       "      <th>count</th>\n",
       "      <td>10.000000</td>\n",
       "      <td>10.000000</td>\n",
       "      <td>10.00000</td>\n",
       "      <td>10.000000</td>\n",
       "      <td>10.000000</td>\n",
       "      <td>10.000000</td>\n",
       "      <td>10.000000</td>\n",
       "      <td>10.000000</td>\n",
       "      <td>10.000000</td>\n",
       "      <td>10.000000</td>\n",
       "    </tr>\n",
       "    <tr>\n",
       "      <th>mean</th>\n",
       "      <td>3.800000</td>\n",
       "      <td>3.600000</td>\n",
       "      <td>2.70000</td>\n",
       "      <td>3.600000</td>\n",
       "      <td>3.000000</td>\n",
       "      <td>2.300000</td>\n",
       "      <td>2.900000</td>\n",
       "      <td>3.200000</td>\n",
       "      <td>3.400000</td>\n",
       "      <td>3.400000</td>\n",
       "    </tr>\n",
       "    <tr>\n",
       "      <th>std</th>\n",
       "      <td>0.788811</td>\n",
       "      <td>0.843274</td>\n",
       "      <td>1.05935</td>\n",
       "      <td>0.699206</td>\n",
       "      <td>0.942809</td>\n",
       "      <td>0.948683</td>\n",
       "      <td>0.567646</td>\n",
       "      <td>0.788811</td>\n",
       "      <td>0.516398</td>\n",
       "      <td>0.699206</td>\n",
       "    </tr>\n",
       "    <tr>\n",
       "      <th>min</th>\n",
       "      <td>3.000000</td>\n",
       "      <td>3.000000</td>\n",
       "      <td>2.00000</td>\n",
       "      <td>3.000000</td>\n",
       "      <td>1.000000</td>\n",
       "      <td>1.000000</td>\n",
       "      <td>2.000000</td>\n",
       "      <td>2.000000</td>\n",
       "      <td>3.000000</td>\n",
       "      <td>3.000000</td>\n",
       "    </tr>\n",
       "    <tr>\n",
       "      <th>25%</th>\n",
       "      <td>3.000000</td>\n",
       "      <td>3.000000</td>\n",
       "      <td>2.00000</td>\n",
       "      <td>3.000000</td>\n",
       "      <td>3.000000</td>\n",
       "      <td>2.000000</td>\n",
       "      <td>3.000000</td>\n",
       "      <td>3.000000</td>\n",
       "      <td>3.000000</td>\n",
       "      <td>3.000000</td>\n",
       "    </tr>\n",
       "    <tr>\n",
       "      <th>50%</th>\n",
       "      <td>4.000000</td>\n",
       "      <td>3.000000</td>\n",
       "      <td>2.00000</td>\n",
       "      <td>3.500000</td>\n",
       "      <td>3.000000</td>\n",
       "      <td>2.000000</td>\n",
       "      <td>3.000000</td>\n",
       "      <td>3.000000</td>\n",
       "      <td>3.000000</td>\n",
       "      <td>3.000000</td>\n",
       "    </tr>\n",
       "    <tr>\n",
       "      <th>75%</th>\n",
       "      <td>4.000000</td>\n",
       "      <td>4.000000</td>\n",
       "      <td>3.00000</td>\n",
       "      <td>4.000000</td>\n",
       "      <td>3.750000</td>\n",
       "      <td>3.000000</td>\n",
       "      <td>3.000000</td>\n",
       "      <td>3.000000</td>\n",
       "      <td>4.000000</td>\n",
       "      <td>3.750000</td>\n",
       "    </tr>\n",
       "    <tr>\n",
       "      <th>max</th>\n",
       "      <td>5.000000</td>\n",
       "      <td>5.000000</td>\n",
       "      <td>5.00000</td>\n",
       "      <td>5.000000</td>\n",
       "      <td>4.000000</td>\n",
       "      <td>4.000000</td>\n",
       "      <td>4.000000</td>\n",
       "      <td>5.000000</td>\n",
       "      <td>4.000000</td>\n",
       "      <td>5.000000</td>\n",
       "    </tr>\n",
       "  </tbody>\n",
       "</table>\n",
       "</div>"
      ],
      "text/plain": [
       "           Câu 1      Câu 2     Câu 3      Câu 4      Câu 5      Câu 6  \\\n",
       "count  10.000000  10.000000  10.00000  10.000000  10.000000  10.000000   \n",
       "mean    3.800000   3.600000   2.70000   3.600000   3.000000   2.300000   \n",
       "std     0.788811   0.843274   1.05935   0.699206   0.942809   0.948683   \n",
       "min     3.000000   3.000000   2.00000   3.000000   1.000000   1.000000   \n",
       "25%     3.000000   3.000000   2.00000   3.000000   3.000000   2.000000   \n",
       "50%     4.000000   3.000000   2.00000   3.500000   3.000000   2.000000   \n",
       "75%     4.000000   4.000000   3.00000   4.000000   3.750000   3.000000   \n",
       "max     5.000000   5.000000   5.00000   5.000000   4.000000   4.000000   \n",
       "\n",
       "           Câu 7      Câu 8      Câu 9     Câu 10  \n",
       "count  10.000000  10.000000  10.000000  10.000000  \n",
       "mean    2.900000   3.200000   3.400000   3.400000  \n",
       "std     0.567646   0.788811   0.516398   0.699206  \n",
       "min     2.000000   2.000000   3.000000   3.000000  \n",
       "25%     3.000000   3.000000   3.000000   3.000000  \n",
       "50%     3.000000   3.000000   3.000000   3.000000  \n",
       "75%     3.000000   3.000000   4.000000   3.750000  \n",
       "max     4.000000   5.000000   4.000000   5.000000  "
      ]
     },
     "execution_count": 36,
     "metadata": {},
     "output_type": "execute_result"
    }
   ],
   "source": [
    "df.iloc[2:12, 2:12].describe()"
   ]
  },
  {
   "attachments": {},
   "cell_type": "markdown",
   "metadata": {},
   "source": [
    "* Tính phương sai"
   ]
  },
  {
   "cell_type": "code",
   "execution_count": 6,
   "metadata": {},
   "outputs": [
    {
     "name": "stdout",
     "output_type": "stream",
     "text": [
      "Variance values :\n",
      " Câu 1     0.62\n",
      "Câu 2     0.71\n",
      "Câu 3     1.12\n",
      "Câu 4     0.49\n",
      "Câu 5     0.89\n",
      "Câu 6     0.90\n",
      "Câu 7     0.32\n",
      "Câu 8     0.62\n",
      "Câu 9     0.27\n",
      "Câu 10    0.49\n",
      "dtype: float64\n"
     ]
    }
   ],
   "source": [
    "#Tính phương sai\n",
    "var_values = df.iloc[2:12, 2:12].var()\n",
    "print(\"Variance values :\\n\",round(var_values,2))"
   ]
  },
  {
   "attachments": {},
   "cell_type": "markdown",
   "metadata": {},
   "source": [
    " THỐNG KÊ VỀ SỐ CÂU TRẢ LỜI"
   ]
  },
  {
   "attachments": {},
   "cell_type": "markdown",
   "metadata": {},
   "source": [
    "* Đếm số lượng câu trả lời có giá trị là \"1\" , \"2\", \"3\", \"4\", \"5\" tương đương với các giá trị \"Rất tệ\", \"Tệ\", \"Bình thường\", \"Tốt\", \"Rất tốt\"\n",
    "*  Biểu đồ cột thống kê số lượng câu trả lời"
   ]
  },
  {
   "cell_type": "code",
   "execution_count": 15,
   "metadata": {},
   "outputs": [
    {
     "name": "stdout",
     "output_type": "stream",
     "text": [
      "Số câu trả lời 'Rất tệ' là:  17\n",
      "Số câu trả lời 'Tệ' là:  61\n",
      "Số câu trả lời 'Bình thường' là:  217\n",
      "Số câu trả lời 'Tốt' là:  192\n",
      "Số câu trả lời 'Rất tổt' là:  23\n"
     ]
    },
    {
     "name": "stderr",
     "output_type": "stream",
     "text": [
      "C:\\Users\\cupho\\AppData\\Local\\Temp\\ipykernel_16192\\1395034160.py:19: MatplotlibDeprecationWarning: The seaborn styles shipped by Matplotlib are deprecated since 3.6, as they no longer correspond to the styles shipped by seaborn. However, they will remain available as 'seaborn-v0_8-<style>'. Alternatively, directly use the seaborn API instead.\n",
      "  plt.style.use('seaborn-whitegrid')\n"
     ]
    },
    {
     "data": {
      "image/png": "[encoded data removed]",
      "text/plain": [
       "<Figure size 640x480 with 1 Axes>"
      ]
     },
     "metadata": {},
     "output_type": "display_data"
    }
   ],
   "source": [
    "asw1_counts = (df == 1).sum().sum()\n",
    "print(\"Số câu trả lời 'Rất tệ' là: \", asw1_counts)\n",
    "asw2_counts = (df == 2).sum().sum()\n",
    "print(\"Số câu trả lời 'Tệ' là: \", asw2_counts)\n",
    "asw3_counts = (df == 3).sum().sum()\n",
    "print(\"Số câu trả lời 'Bình thường' là: \", asw3_counts)\n",
    "asw4_counts = (df == 4).sum().sum()\n",
    "print(\"Số câu trả lời 'Tốt' là: \", asw4_counts)\n",
    "asw5_counts = (df == 5).sum().sum()\n",
    "print(\"Số câu trả lời 'Rất tổt' là: \", asw5_counts)\n",
    "\n",
    "count_answers = {\"Rất tệ\":asw1_counts,\n",
    "                 \"Tệ\": asw2_counts,\n",
    "                 \"Bình thường\":  asw3_counts,\n",
    "                 \"Tốt\": asw4_counts,\n",
    "                 \"Rất tốt\": asw5_counts\n",
    "                 }\n",
    "plt.style.available\n",
    "plt.style.use('seaborn-whitegrid')\n",
    "fig,ax =plt.subplots()\n",
    "ax.bar(count_answers.keys(),count_answers.values());\n",
    "ax.set(title = \" Số câu trả lời trong khảo sát\", ylabel =\"Số lượng\");\n",
    "# Hiển thị giá trị trên mỗi cột\n",
    "for i, v in enumerate(count_answers.values()):\n",
    "    ax.text(i, v, str(v), color='red', fontweight='bold', ha='center', va='bottom')\n",
    "\n"
   ]
  },
  {
   "attachments": {},
   "cell_type": "markdown",
   "metadata": {},
   "source": [
    "# $2.4.3$  Mối tương quan giữa các câu hỏi khảo sát và kết quả\n",
    "* Tính hệ số tương quan giữa các câu hỏi"
   ]
  },
  {
   "cell_type": "code",
   "execution_count": 4,
   "metadata": {},
   "outputs": [
    {
     "data": {
      "text/html": [
       "<div>\n",
       "<style scoped>\n",
       "    .dataframe tbody tr th:only-of-type {\n",
       "        vertical-align: middle;\n",
       "    }\n",
       "\n",
       "    .dataframe tbody tr th {\n",
       "        vertical-align: top;\n",
       "    }\n",
       "\n",
       "    .dataframe thead th {\n",
       "        text-align: right;\n",
       "    }\n",
       "</style>\n",
       "<table border=\"1\" class=\"dataframe\">\n",
       "  <thead>\n",
       "    <tr style=\"text-align: right;\">\n",
       "      <th></th>\n",
       "      <th>Câu 1</th>\n",
       "      <th>Câu 2</th>\n",
       "      <th>Câu 3</th>\n",
       "      <th>Câu 4</th>\n",
       "      <th>Câu 5</th>\n",
       "      <th>Câu 6</th>\n",
       "      <th>Câu 7</th>\n",
       "      <th>Câu 8</th>\n",
       "      <th>Câu 9</th>\n",
       "      <th>Câu 10</th>\n",
       "    </tr>\n",
       "  </thead>\n",
       "  <tbody>\n",
       "    <tr>\n",
       "      <th>Câu 1</th>\n",
       "      <td>1.000000</td>\n",
       "      <td>0.706740</td>\n",
       "      <td>0.450371</td>\n",
       "      <td>0.428121</td>\n",
       "      <td>0.210833</td>\n",
       "      <td>0.427806</td>\n",
       "      <td>0.430305</td>\n",
       "      <td>0.537566</td>\n",
       "      <td>0.434590</td>\n",
       "      <td>0.665344</td>\n",
       "    </tr>\n",
       "    <tr>\n",
       "      <th>Câu 2</th>\n",
       "      <td>0.706740</td>\n",
       "      <td>1.000000</td>\n",
       "      <td>0.322847</td>\n",
       "      <td>0.380389</td>\n",
       "      <td>0.221474</td>\n",
       "      <td>0.282960</td>\n",
       "      <td>0.460207</td>\n",
       "      <td>0.409849</td>\n",
       "      <td>0.310402</td>\n",
       "      <td>0.440073</td>\n",
       "    </tr>\n",
       "    <tr>\n",
       "      <th>Câu 3</th>\n",
       "      <td>0.450371</td>\n",
       "      <td>0.322847</td>\n",
       "      <td>1.000000</td>\n",
       "      <td>0.155243</td>\n",
       "      <td>0.405960</td>\n",
       "      <td>0.526909</td>\n",
       "      <td>0.505611</td>\n",
       "      <td>0.415793</td>\n",
       "      <td>0.316268</td>\n",
       "      <td>0.527676</td>\n",
       "    </tr>\n",
       "    <tr>\n",
       "      <th>Câu 4</th>\n",
       "      <td>0.428121</td>\n",
       "      <td>0.380389</td>\n",
       "      <td>0.155243</td>\n",
       "      <td>1.000000</td>\n",
       "      <td>0.321992</td>\n",
       "      <td>0.301209</td>\n",
       "      <td>0.386644</td>\n",
       "      <td>0.347854</td>\n",
       "      <td>0.326612</td>\n",
       "      <td>0.337901</td>\n",
       "    </tr>\n",
       "    <tr>\n",
       "      <th>Câu 5</th>\n",
       "      <td>0.210833</td>\n",
       "      <td>0.221474</td>\n",
       "      <td>0.405960</td>\n",
       "      <td>0.321992</td>\n",
       "      <td>1.000000</td>\n",
       "      <td>0.441738</td>\n",
       "      <td>0.224152</td>\n",
       "      <td>0.216046</td>\n",
       "      <td>0.201431</td>\n",
       "      <td>0.383656</td>\n",
       "    </tr>\n",
       "    <tr>\n",
       "      <th>Câu 6</th>\n",
       "      <td>0.427806</td>\n",
       "      <td>0.282960</td>\n",
       "      <td>0.526909</td>\n",
       "      <td>0.301209</td>\n",
       "      <td>0.441738</td>\n",
       "      <td>1.000000</td>\n",
       "      <td>0.517016</td>\n",
       "      <td>0.441114</td>\n",
       "      <td>0.547512</td>\n",
       "      <td>0.683955</td>\n",
       "    </tr>\n",
       "    <tr>\n",
       "      <th>Câu 7</th>\n",
       "      <td>0.430305</td>\n",
       "      <td>0.460207</td>\n",
       "      <td>0.505611</td>\n",
       "      <td>0.386644</td>\n",
       "      <td>0.224152</td>\n",
       "      <td>0.517016</td>\n",
       "      <td>1.000000</td>\n",
       "      <td>0.572171</td>\n",
       "      <td>0.452468</td>\n",
       "      <td>0.571677</td>\n",
       "    </tr>\n",
       "    <tr>\n",
       "      <th>Câu 8</th>\n",
       "      <td>0.537566</td>\n",
       "      <td>0.409849</td>\n",
       "      <td>0.415793</td>\n",
       "      <td>0.347854</td>\n",
       "      <td>0.216046</td>\n",
       "      <td>0.441114</td>\n",
       "      <td>0.572171</td>\n",
       "      <td>1.000000</td>\n",
       "      <td>0.490356</td>\n",
       "      <td>0.575269</td>\n",
       "    </tr>\n",
       "    <tr>\n",
       "      <th>Câu 9</th>\n",
       "      <td>0.434590</td>\n",
       "      <td>0.310402</td>\n",
       "      <td>0.316268</td>\n",
       "      <td>0.326612</td>\n",
       "      <td>0.201431</td>\n",
       "      <td>0.547512</td>\n",
       "      <td>0.452468</td>\n",
       "      <td>0.490356</td>\n",
       "      <td>1.000000</td>\n",
       "      <td>0.670369</td>\n",
       "    </tr>\n",
       "    <tr>\n",
       "      <th>Câu 10</th>\n",
       "      <td>0.665344</td>\n",
       "      <td>0.440073</td>\n",
       "      <td>0.527676</td>\n",
       "      <td>0.337901</td>\n",
       "      <td>0.383656</td>\n",
       "      <td>0.683955</td>\n",
       "      <td>0.571677</td>\n",
       "      <td>0.575269</td>\n",
       "      <td>0.670369</td>\n",
       "      <td>1.000000</td>\n",
       "    </tr>\n",
       "  </tbody>\n",
       "</table>\n",
       "</div>"
      ],
      "text/plain": [
       "           Câu 1     Câu 2     Câu 3     Câu 4     Câu 5     Câu 6     Câu 7  \\\n",
       "Câu 1   1.000000  0.706740  0.450371  0.428121  0.210833  0.427806  0.430305   \n",
       "Câu 2   0.706740  1.000000  0.322847  0.380389  0.221474  0.282960  0.460207   \n",
       "Câu 3   0.450371  0.322847  1.000000  0.155243  0.405960  0.526909  0.505611   \n",
       "Câu 4   0.428121  0.380389  0.155243  1.000000  0.321992  0.301209  0.386644   \n",
       "Câu 5   0.210833  0.221474  0.405960  0.321992  1.000000  0.441738  0.224152   \n",
       "Câu 6   0.427806  0.282960  0.526909  0.301209  0.441738  1.000000  0.517016   \n",
       "Câu 7   0.430305  0.460207  0.505611  0.386644  0.224152  0.517016  1.000000   \n",
       "Câu 8   0.537566  0.409849  0.415793  0.347854  0.216046  0.441114  0.572171   \n",
       "Câu 9   0.434590  0.310402  0.316268  0.326612  0.201431  0.547512  0.452468   \n",
       "Câu 10  0.665344  0.440073  0.527676  0.337901  0.383656  0.683955  0.571677   \n",
       "\n",
       "           Câu 8     Câu 9    Câu 10  \n",
       "Câu 1   0.537566  0.434590  0.665344  \n",
       "Câu 2   0.409849  0.310402  0.440073  \n",
       "Câu 3   0.415793  0.316268  0.527676  \n",
       "Câu 4   0.347854  0.326612  0.337901  \n",
       "Câu 5   0.216046  0.201431  0.383656  \n",
       "Câu 6   0.441114  0.547512  0.683955  \n",
       "Câu 7   0.572171  0.452468  0.571677  \n",
       "Câu 8   1.000000  0.490356  0.575269  \n",
       "Câu 9   0.490356  1.000000  0.670369  \n",
       "Câu 10  0.575269  0.670369  1.000000  "
      ]
     },
     "execution_count": 4,
     "metadata": {},
     "output_type": "execute_result"
    }
   ],
   "source": [
    "cereal_corr = df.iloc[:, 2:12].corr()\n",
    "cereal_corr"
   ]
  },
  {
   "attachments": {},
   "cell_type": "markdown",
   "metadata": {},
   "source": [
    "* Biểu diễn mối tương quan bằng biểu đồ cột"
   ]
  },
  {
   "cell_type": "code",
   "execution_count": 5,
   "metadata": {},
   "outputs": [
    {
     "data": {
      "image/png": "[encoded data removed]",
      "text/plain": [
       "<Figure size 1000x800 with 2 Axes>"
      ]
     },
     "metadata": {},
     "output_type": "display_data"
    }
   ],
   "source": [
    "ones_corr = np.ones_like(cereal_corr,dtype = bool)\n",
    "mask = np.triu(ones_corr)\n",
    "adjusted_mask = mask[1:, :-1]\n",
    "\n",
    "adjusted_cereal_corr = cereal_corr.iloc[1:, :-1]\n",
    "fig, ax = plt.subplots(figsize =(10,8))\n",
    "cmap = sns.diverging_palette(0,230,90,60,as_cmap = True)\n",
    "ax.set(title = \" HỆ SỐ TƯƠNG QUAN GIỮA CÁC CÂU HỎI VÀ KẾT QUẢ\");\n",
    "sns.heatmap(data =adjusted_cereal_corr, mask = adjusted_mask,\n",
    "            annot =True, fmt =\".3f\",cmap = cmap,\n",
    "            vmin = -1, vmax =1,\n",
    "            linecolor =\"white\", linewidths = 0.5);\n"
   ]
  },
  {
   "attachments": {},
   "cell_type": "markdown",
   "metadata": {},
   "source": [
    "\n",
    "Dựa vào ma trận hệ số tương quan, chúng em đưa ra nhận xét về mối quan hệ giữa các câu hỏi liên quan đến cơ sở vật chất của Trường Đại học Công nghiệp Thành phố Hồ Chí Minh (IUH):\n",
    "\n",
    "    * Câu 1 và câu 7 có hệ số tương quan cao (0.706740 và 0.665344), cho thấy có một mối liên hệ chặt chẽ giữa CSVC của trường và số tiền học phí mà sinh viên phải trả. Nếu trường có đáp ứng đầy đủ CSVC, thì học phí sẽ cao hơn.\n",
    "    * Câu 4 và câu 9 có hệ số tương quan trung bình (0.527676), cho thấy việc thư viện cung cấp đủ tài liệu và cơ sở vật chất của trường là các yếu tố quan trọng đối với chất lượng giảng dạy và học tập của sinh viên.\n",
    "    * Câu 2, câu 3, câu 5, câu 6, và câu 8 có hệ số tương quan thấp (thấp hơn 0.5), cho thấy các yếu tố này không ảnh hưởng quá nhiều đến chất lượng giảng dạy và học tập của sinh viên"
   ]
  },
  {
   "attachments": {},
   "cell_type": "markdown",
   "metadata": {},
   "source": [
    "# $2.4.4$ Xác định yếu tố quan trọng đến kết quả "
   ]
  },
  {
   "attachments": {},
   "cell_type": "markdown",
   "metadata": {},
   "source": [
    "Để rút ra kết luận về yếu tố nào ảnh hưởng đến kết quả, chúng em xem xét các giá trị hệ số tương quan để đánh giá mức độ tương quan giữa các biến số.\n",
    "\n",
    "* Các câu hỏi về cơ sở vật chất như Câu 1, Câu 2 và Câu 5 có hệ số tương quan thấp với các câu hỏi khác, cho thấy chúng không có tương quan mạnh với kết quả tổng thể. Tuy nhiên, Câu 1 và Câu 2 có hệ số tương quan cao với nhau, cho thấy rằng trường có thể đã đáp ứng đầy đủ CSVC cho sinh viên trong các phòng học.\n",
    "\n",
    "* Câu 3, Câu 4 và Câu 7 có hệ số tương quan trung bình với các câu hỏi khác, cho thấy rằng nhà để xe, thư viện và đánh giá CSVC so với học phí đóng vai trò quan trọng hơn đối với chất lượng tổng thể của trường.\n",
    "\n",
    "* Các câu hỏi về mạng wifi và cơ sở vật chất, bao gồm Câu 6, Câu 8 và Câu 9, có hệ số tương quan trung bình đến cao với các câu hỏi khác, cho thấy rằng chất lượng mạng wifi và cơ sở vật chất của trường có ảnh hưởng đáng kể đến kết quả.\n",
    "\n",
    "Tổng thể, Câu 10 là câu hỏi đánh giá chung về CSVC của trường. Hệ số tương quan của Câu 10 với các câu hỏi khác rất cao, cho thấy rằng câu 10 cũng chính là yếu tố ảnh hưởng đến kết quả.\n"
   ]
  },
  {
   "attachments": {},
   "cell_type": "markdown",
   "metadata": {},
   "source": [
    "# $2.4.5$ Trực quan hóa dữ liệu \n"
   ]
  },
  {
   "attachments": {},
   "cell_type": "markdown",
   "metadata": {},
   "source": [
    "    \" Điều gì là quan trọng nhất đối với sinh viên khi đánh giá cơ sở vật chất của trường đại học ?\""
   ]
  },
  {
   "attachments": {},
   "cell_type": "markdown",
   "metadata": {},
   "source": [
    "* Để kiểm tra xem có những yếu tố nào quan trọng nhất đối với sinh viên để làm thước đo đánh giá cơ sở vật chất của 1 trường đại học , chúng em lấy một số yếu tố phổ biến mà mỗi trường đại học đều có , đếm số giá trị riêng biệt \"1\", \"2\", \"3\", \"4\", \"5\" tương ứng với các đánh giá \"Rất tệ\", \"Tệ\", \"Bình thường\", \"Tốt\", \"Rất tốt\", cụ thể là: "
   ]
  },
  {
   "attachments": {},
   "cell_type": "markdown",
   "metadata": {},
   "source": [
    "1. NHÀ XE"
   ]
  },
  {
   "attachments": {},
   "cell_type": "markdown",
   "metadata": {},
   "source": [
    "    Câu 3. Bạn cảm thấy nhà xe của trường có đáp ứng nhu cầu gửi xe của sinh viên không ?"
   ]
  },
  {
   "cell_type": "code",
   "execution_count": 9,
   "metadata": {},
   "outputs": [
    {
     "data": {
      "text/plain": [
       "3    19\n",
       "2    15\n",
       "4     9\n",
       "1     6\n",
       "5     2\n",
       "Name: Câu 3, dtype: int64"
      ]
     },
     "execution_count": 9,
     "metadata": {},
     "output_type": "execute_result"
    }
   ],
   "source": [
    "#Đếm số lượng các câu riêng biệt trong câu 3\n",
    "count_3 = df['Câu 3'].value_counts()\n",
    "count_3"
   ]
  },
  {
   "attachments": {},
   "cell_type": "markdown",
   "metadata": {},
   "source": [
    "Số câu trả lời : Rất tệ: 6 , Tệ: 15 , Bình thường: 19, Tốt : 9 , Rất tốt: 2"
   ]
  },
  {
   "attachments": {},
   "cell_type": "markdown",
   "metadata": {},
   "source": [
    "2. THƯ VIỆN"
   ]
  },
  {
   "attachments": {},
   "cell_type": "markdown",
   "metadata": {},
   "source": [
    "    Câu 4. Thư viện có cung cấp đủ thiết bị và tài liệu đáp ứng nhu cầu học tập của sinh viên ?"
   ]
  },
  {
   "cell_type": "code",
   "execution_count": 10,
   "metadata": {},
   "outputs": [
    {
     "data": {
      "text/plain": [
       "4    26\n",
       "3    15\n",
       "5     7\n",
       "2     3\n",
       "Name: Câu 4, dtype: int64"
      ]
     },
     "execution_count": 10,
     "metadata": {},
     "output_type": "execute_result"
    }
   ],
   "source": [
    "#Đếm số lượng các câu riêng biệt trong câu 4\n",
    "count_4 = df['Câu 4'].value_counts()\n",
    "count_4"
   ]
  },
  {
   "attachments": {},
   "cell_type": "markdown",
   "metadata": {},
   "source": [
    "Số câu trả lời :   Rất tệ: 0 , Tệ: 3 , Bình thường: 15, Tốt : 26,  Rất tốt: 7"
   ]
  },
  {
   "attachments": {},
   "cell_type": "markdown",
   "metadata": {},
   "source": [
    "3. THANG MÁY"
   ]
  },
  {
   "attachments": {},
   "cell_type": "markdown",
   "metadata": {},
   "source": [
    "    Câu 5. Chất lượng thang máy của trường như thế nào trong quá trình vận hành ?"
   ]
  },
  {
   "cell_type": "code",
   "execution_count": 11,
   "metadata": {},
   "outputs": [
    {
     "data": {
      "text/plain": [
       "3    26\n",
       "4    19\n",
       "2     4\n",
       "1     1\n",
       "5     1\n",
       "Name: Câu 5, dtype: int64"
      ]
     },
     "execution_count": 11,
     "metadata": {},
     "output_type": "execute_result"
    }
   ],
   "source": [
    "#Đếm số lượng các câu riêng biệt trong câu 5\n",
    "count_5 = df['Câu 5'].value_counts()\n",
    "count_5"
   ]
  },
  {
   "attachments": {},
   "cell_type": "markdown",
   "metadata": {},
   "source": [
    "Số câu trả lời :Rất tệ: 1 , Tệ: 4 , Bình thường: 26, Tốt : 19, Rất tốt: 1"
   ]
  },
  {
   "attachments": {},
   "cell_type": "markdown",
   "metadata": {},
   "source": [
    "4. MẠNG INTERNET"
   ]
  },
  {
   "attachments": {},
   "cell_type": "markdown",
   "metadata": {},
   "source": [
    "    Câu 6. Mạng wifi của trường có đủ mạnh để sinh viên truy cập và sử dụng ?"
   ]
  },
  {
   "cell_type": "code",
   "execution_count": 12,
   "metadata": {},
   "outputs": [
    {
     "data": {
      "text/plain": [
       "3    21\n",
       "2    17\n",
       "1     9\n",
       "4     3\n",
       "5     1\n",
       "Name: Câu 6, dtype: int64"
      ]
     },
     "execution_count": 12,
     "metadata": {},
     "output_type": "execute_result"
    }
   ],
   "source": [
    "#Đếm số lượng các câu riêng biệt trong câu 6\n",
    "count_6 = df['Câu 6'].value_counts()\n",
    "count_6"
   ]
  },
  {
   "attachments": {},
   "cell_type": "markdown",
   "metadata": {},
   "source": [
    "Số câu trả lời : Rất tệ: 9  , Tệ: 17  , Bình thường: 21  , Tốt : 3  , Rất tốt: 1"
   ]
  },
  {
   "attachments": {},
   "cell_type": "markdown",
   "metadata": {},
   "source": [
    "* Vẽ biểu đồ thống kê các yếu tố trên:"
   ]
  },
  {
   "cell_type": "code",
   "execution_count": 16,
   "metadata": {},
   "outputs": [
    {
     "data": {
      "image/png": "[encoded data removed]",
      "text/plain": [
       "<Figure size 800x600 with 4 Axes>"
      ]
     },
     "metadata": {},
     "output_type": "display_data"
    }
   ],
   "source": [
    "import matplotlib.pyplot as plt\n",
    "import numpy as np\n",
    "\n",
    "# Tạo dữ liệu \n",
    "x = ['Rất tệ', 'Tệ', 'Bình thường', 'Tốt', 'Rất tốt']\n",
    "y1 = [6, 15, 19, 9, 2]\n",
    "y2 = [0, 3, 15, 26, 7]\n",
    "y3 = [1, 4, 26, 19, 1]\n",
    "y4 = [9, 17, 21, 3, 1]\n",
    "\n",
    "# Chia thành 4 biểu đồ con\n",
    "fig, axs = plt.subplots(nrows=2, ncols=2, figsize=(8, 6))\n",
    "\n",
    "# Vẽ biểu đồ cột trong từng phần của bảng đồ\n",
    "axs[0, 0].bar(x, y1, color='red')\n",
    "axs[0, 1].bar(x, y2, color='green')\n",
    "axs[1, 0].bar(x, y3, color='blue')\n",
    "axs[1, 1].bar(x, y4, color='orange')\n",
    "\n",
    "# Tùy chỉnh biểu đồ\n",
    "axs[0, 0].set_title('Nhà xe')\n",
    "axs[0, 1].set_title('Thư viện')\n",
    "axs[1, 0].set_title('Thang máy')\n",
    "axs[1, 1].set_title('Internet')\n",
    "plt.suptitle('Một số yếu tố chính ')\n",
    "\n",
    "plt.show()\n"
   ]
  },
  {
   "attachments": {},
   "cell_type": "markdown",
   "metadata": {},
   "source": [
    "* Từ biểu đồ trên , chúng em rút ra được một số kết luận :\n",
    "\n",
    "    * Thư viện và thang máy được đánh giá rất cao, cho thấy cơ sở vật chất liên quan đến học tập và đi lại của sinh viên tại trường đại học này đang được đánh giá rất tích cực và sẽ cần được phát huy thêm để đáp ứng nhu cầu của sinh viên.\n",
    "    * Bên cạnh đó, vẫn còn một số hạ tầng cơ sở vật chất như bãi đỗ xe và internet cần được cải thiện để đáp ứng nhu cầu sử dụng của sinh viên. "
   ]
  },
  {
   "attachments": {},
   "cell_type": "markdown",
   "metadata": {},
   "source": [
    "    \"Cơ sở vật chất (CSVC) của trường có thật sự đáp ứng nhu cầu cho sinh viên theo học tại trường ?\""
   ]
  },
  {
   "attachments": {},
   "cell_type": "markdown",
   "metadata": {},
   "source": [
    "* Để trả lời cho câu hỏi này , chúng em có đặt 1 câu hỏi khảo sát ở cuối cùng để đánh giá chung về cơ sở vật chất của trường:\n",
    "\n",
    "        \"10. Đánh giá chung về cơ sở vật chất của trường\""
   ]
  },
  {
   "attachments": {},
   "cell_type": "markdown",
   "metadata": {},
   "source": [
    "* Chúng em đếm số lượng các câu trả lời ở câu 10"
   ]
  },
  {
   "cell_type": "code",
   "execution_count": 15,
   "metadata": {},
   "outputs": [
    {
     "data": {
      "text/plain": [
       "4    24\n",
       "3    20\n",
       "2     6\n",
       "5     1\n",
       "Name: Câu 10, dtype: int64"
      ]
     },
     "execution_count": 15,
     "metadata": {},
     "output_type": "execute_result"
    }
   ],
   "source": [
    "#Đếm số lượng các câu riêng biệt trong câu 10\n",
    "count_10 = df['Câu 10'].value_counts()\n",
    "count_10"
   ]
  },
  {
   "attachments": {},
   "cell_type": "markdown",
   "metadata": {},
   "source": [
    "Số câu trả lời: Rất tệ : 0; Tệ: 6 ; Bình thường: 20, Tốt :24, Rất tốt: 1"
   ]
  },
  {
   "attachments": {},
   "cell_type": "markdown",
   "metadata": {},
   "source": [
    "* Sau khi đếm số lượng , chúng em trực quan hóa dữ liệu thống kê được bằng biểu đồ cột"
   ]
  },
  {
   "cell_type": "code",
   "execution_count": 29,
   "metadata": {},
   "outputs": [
    {
     "data": {
      "image/png": "[encoded data removed]",
      "text/plain": [
       "<Figure size 640x480 with 1 Axes>"
      ]
     },
     "metadata": {},
     "output_type": "display_data"
    }
   ],
   "source": [
    "import matplotlib.pyplot as plt\n",
    "import numpy as np\n",
    "\n",
    "x_10 = ['Rất tệ', 'Tệ', 'Bình thường', 'Tốt', 'Rất tốt']\n",
    "y_10 = [0, 6, 20 ,24, 1]\n",
    "\n",
    "# Tính tổng số lượng\n",
    "total = sum(y_10)\n",
    "\n",
    "# Tính tỉ lệ phần trăm của từng cột\n",
    "ratios = [y / total for y in y_10]\n",
    "\n",
    "# Chọn màu sắc cho các cột\n",
    "colors = ['#d65f5f', 'red', '#ffbf00', 'green', '#FF33FF']\n",
    "\n",
    "# Tạo biểu đồ cột\n",
    "fig, ax = plt.subplots()\n",
    "index = np.arange(len(x_10))\n",
    "bar_width = 0.35\n",
    "opacity = 0.8\n",
    "\n",
    "rects1 = ax.bar(index, ratios, bar_width,\n",
    "                alpha=opacity,\n",
    "                color=colors,\n",
    "                label='Đánh giá sản phẩm')\n",
    "\n",
    "# Thêm các text để hiển thị giá trị trên cột\n",
    "for i, rect in enumerate(rects1):\n",
    "    height = rect.get_height()\n",
    "    ax.text(rect.get_x() + rect.get_width() / 2., 1.01 * height,\n",
    "            f\"{ratios[i]*100:.1f}%\", ha='center', va='bottom')\n",
    "\n",
    "# Đặt tên cho trục x và trục y\n",
    "ax.set_xlabel('Đáp án lựa chọn')\n",
    "ax.set_ylabel('Tỉ lệ')\n",
    "\n",
    "# Đặt tên cho các label trên trục x\n",
    "ax.set_xticks(index)\n",
    "ax.set_xticklabels(x_10)\n",
    "\n",
    "# Đặt giới hạn cho trục y\n",
    "ax.set_ylim([0, 1])\n",
    "\n",
    "# Thêm grid lines cho biểu đồ\n",
    "ax.grid(axis='y', linestyle='--')\n",
    "\n",
    "# Thêm tiêu đề cho biểu đồ\n",
    "ax.set_title('Đánh giá chung về CSVC của trường ')\n",
    "\n",
    "# Hiển thị biểu đồ\n",
    "plt.show()\n"
   ]
  },
  {
   "attachments": {},
   "cell_type": "markdown",
   "metadata": {},
   "source": [
    "* Dựa vào số liệu trên, chúng ta có thể thấy rằng tỉ lệ đánh giá về cơ sở vật chất của trường đại học Công nghiệp thành phố Hồ Chí Minh khá tích cực. Hầu hết các sinh viên đánh giá trường đại học có cơ sở vật chất từ \"Bình thường\" đến \"Tốt\" ,chiếm lần lượt là 39.2% và 47.1%, có 2% đánh giá \"Rất tốt\", không có đánh giá rất tệ nào được đưa ra. \n",
    "* Chúng em đưa ra kết luận rằng cơ sở vật chất của trường đại học Công Nghiệp TP.Hồ Chí Minh thật sự ĐÁP ỨNG ĐƯỢC nhu cầu của sinh viên theo học tại trường ."
   ]
  },
  {
   "cell_type": "markdown",
   "metadata": {},
   "source": []
  }
 ],
 "metadata": {
  "kernelspec": {
   "display_name": "Python 3",
   "language": "python",
   "name": "python3"
  },
  "language_info": {
   "codemirror_mode": {
    "name": "ipython",
    "version": 3
   },
   "file_extension": ".py",
   "mimetype": "text/x-python",
   "name": "python",
   "nbconvert_exporter": "python",
   "pygments_lexer": "ipython3",
   "version": "3.8.10"
  },
  "orig_nbformat": 4
 },
 "nbformat": 4,
 "nbformat_minor": 2
}
